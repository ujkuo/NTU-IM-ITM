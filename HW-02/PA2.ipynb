{
 "cells": [
  {
   "cell_type": "code",
   "execution_count": null,
   "metadata": {},
   "outputs": [],
   "source": [
    "# Import Libraries"
   ]
  },
  {
   "cell_type": "code",
   "execution_count": 48,
   "metadata": {},
   "outputs": [],
   "source": [
    "from nltk.tokenize import word_tokenize\n",
    "from collections import Counter\n",
    "from sklearn.feature_extraction.text import CountVectorizer\n",
    "from sklearn.feature_extraction.text import TfidfVectorizer\n",
    "import numpy as np\n",
    "import os\n",
    "import nltk\n",
    "import pandas as pd\n",
    "from sklearn.metrics import precision_recall_curve\n",
    "import matplotlib.pyplot as plt\n",
    "from sklearn.feature_extraction.text import CountVectorizer\n",
    "from sklearn.model_selection import train_test_split\n",
    "from sklearn.naive_bayes import BernoulliNB\n",
    "from sklearn import metrics\n",
    "from sklearn.svm import SVC"
   ]
  },
  {
   "cell_type": "code",
   "execution_count": 17,
   "metadata": {},
   "outputs": [],
   "source": [
    "all_file = []\n",
    "\n",
    "for i in range(1, 1096):\n",
    "    ### read file\n",
    "    doc_name = \"~/NTUCourse/NTU-IM-ITM/HW-02/PA2-data/\" + str(i) + \".txt\"\n",
    "    file = os.path.expanduser(doc_name)\n",
    "    f = open(file)\n",
    "    docs = f.read()\n",
    "    #print(docs)\n",
    "    \n",
    "    ### lowerize\n",
    "    token_lower = docs.lower()\n",
    "    #print(token_lower)\n",
    "    token = token_lower.replace('\\n', '')    \n",
    "    all_file.append([i, token])\n",
    "    \n",
    "docs = pd.DataFrame(all_file, columns = ['id', 'text'])\n",
    "#print(docs['text'][0])\n",
    "#print(docs)\n",
    "#docs.head()"
   ]
  },
  {
   "cell_type": "code",
   "execution_count": 18,
   "metadata": {},
   "outputs": [
    {
     "name": "stdout",
     "output_type": "stream",
     "text": [
      "1095\n"
     ]
    }
   ],
   "source": [
    "print(len(docs))"
   ]
  },
  {
   "cell_type": "code",
   "execution_count": 68,
   "metadata": {},
   "outputs": [
    {
     "name": "stdout",
     "output_type": "stream",
     "text": [
      "13\n",
      "     training_id  classes\n",
      "0              1        2\n",
      "1              2        2\n",
      "2              3        2\n",
      "3              4        2\n",
      "4              5        2\n",
      "..           ...      ...\n",
      "190         1013        6\n",
      "191         1014        6\n",
      "192         1015        6\n",
      "193         1016        6\n",
      "194         1019        6\n",
      "\n",
      "[195 rows x 2 columns]\n",
      "16        17\n",
      "17        18\n",
      "19        20\n",
      "20        21\n",
      "21        22\n",
      "        ... \n",
      "1090    1091\n",
      "1091    1092\n",
      "1092    1093\n",
      "1093    1094\n",
      "1094    1095\n",
      "Name: id, Length: 900, dtype: int64\n"
     ]
    }
   ],
   "source": [
    "classes = [[11, 19, 29, 113, 115, 169, 278, 301, 316, 317, 321, 324, 325, 338, 341],\n",
    "[1, 2, 3, 4, 5, 6, 7, 8, 9, 10, 12, 13, 14, 15, 16] ,\n",
    "[813, 817, 818, 819, 820, 821, 822, 824, 825, 826, 828, 829, 830, 832, 833], \n",
    "[635, 680, 683, 702, 704, 705, 706, 708, 709, 719, 720, 722, 723, 724, 726], \n",
    "[646, 751, 781, 794, 798, 799, 801, 812, 815, 823, 831, 839, 840, 841, 842],\n",
    "[995, 998, 999, 1003, 1005, 1006, 1007, 1009, 1011, 1012, 1013, 1014, 1015, 1016, 1019],\n",
    "[700, 730, 731, 732, 733, 735, 740, 744, 752, 754, 755, 756, 757, 759, 760], \n",
    "[262, 296, 304, 308, 337, 397, 401, 443, 445, 450, 466, 480, 513, 533, 534], \n",
    "[130, 131, 132, 133, 134, 135, 136, 137, 138, 139, 140, 141, 142, 143, 145], \n",
    "[31, 44, 70, 83, 86, 92, 100, 102, 305, 309, 315, 320, 326, 327, 328], \n",
    "[240, 241, 243, 244, 245, 248, 250, 254, 255, 256, 258, 260, 275, 279, 295], \n",
    "[535, 542, 571, 573, 574, 575, 576, 578, 581, 582, 583, 584, 585, 586, 588], \n",
    "[485, 520, 523, 526, 527, 529, 530, 531, 532, 536, 537, 538, 539, 540, 541]]\n",
    "\n",
    "print(len(classes))\n",
    "labels = []\n",
    "for q in range(0, len(docs)):\n",
    "    for i in range(0, 13):\n",
    "        for j in range(0, 15):\n",
    "            if q + 1 == classes[i][j]:\n",
    "                #print(q, q+1, i, classes[i], i+ 1)\n",
    "                labels.append([classes[i][j], i+1])\n",
    "#print(labels)\n",
    "labels = pd.DataFrame(sorted(labels, key = lambda l:l[0]), columns = ['training_id', 'classes'])\n",
    "print(labels)        \n",
    "training_docs = docs[docs['id'].isin(labels['training_id'])]\n",
    "#print(training_docs)\n",
    "testing_docs = docs[~docs['id'].isin(labels['training_id'])]\n",
    "print(testing_docs['id'])\n"
   ]
  },
  {
   "cell_type": "code",
   "execution_count": 37,
   "metadata": {},
   "outputs": [],
   "source": [
    "bn_vec = CountVectorizer(binary = True)\n",
    "brn_nb = bn_vec.fit_transform(docs)\n",
    "train_text = []\n",
    "train_label = []\n",
    "#print(training_docs['id'][20])\n",
    "#for i in range(195):\n",
    "    #print(training_docs['id'][i])"
   ]
  },
  {
   "cell_type": "code",
   "execution_count": 21,
   "metadata": {},
   "outputs": [],
   "source": [
    "binary_vectorizer = CountVectorizer(binary = True)\n",
    "binary_vectors = binary_vectorizer.fit_transform(training_docs['text'])\n",
    "binary_vectors_test = binary_vectorizer.transform(testing_docs['text'])\n",
    "x_train, x_test, y_train, y_test = train_test_split(binary_vectors, labels['classes'], test_size = 0.1)"
   ]
  },
  {
   "cell_type": "code",
   "execution_count": 84,
   "metadata": {},
   "outputs": [
    {
     "name": "stdout",
     "output_type": "stream",
     "text": [
      "Precision, Recall, and F1 scores are as below.\n",
      "              precision    recall  f1-score   support\n",
      "\n",
      "           1       0.00      0.00      0.00         0\n",
      "           2       1.00      0.50      0.67         2\n",
      "           3       0.00      0.00      0.00         0\n",
      "           4       1.00      0.33      0.50         3\n",
      "           6       0.00      0.00      0.00         2\n",
      "           7       0.00      0.00      0.00         1\n",
      "           8       1.00      1.00      1.00         2\n",
      "           9       0.00      0.00      0.00         2\n",
      "          10       1.00      1.00      1.00         2\n",
      "          11       0.00      0.00      0.00         1\n",
      "          12       1.00      0.50      0.67         2\n",
      "          13       1.00      0.33      0.50         3\n",
      "\n",
      "    accuracy                           0.40        20\n",
      "   macro avg       0.50      0.31      0.36        20\n",
      "weighted avg       0.70      0.40      0.48        20\n",
      "\n",
      "F1 scores = 0.4833333333333333\n",
      "Precision = 0.7\n",
      "recall = 0.4\n"
     ]
    },
    {
     "name": "stderr",
     "output_type": "stream",
     "text": [
      "/Library/Frameworks/Python.framework/Versions/3.8/lib/python3.8/site-packages/sklearn/metrics/_classification.py:1221: UndefinedMetricWarning: Precision and F-score are ill-defined and being set to 0.0 in labels with no predicted samples. Use `zero_division` parameter to control this behavior.\n",
      "  _warn_prf(average, modifier, msg_start, len(result))\n",
      "/Library/Frameworks/Python.framework/Versions/3.8/lib/python3.8/site-packages/sklearn/metrics/_classification.py:1221: UndefinedMetricWarning: Recall and F-score are ill-defined and being set to 0.0 in labels with no true samples. Use `zero_division` parameter to control this behavior.\n",
      "  _warn_prf(average, modifier, msg_start, len(result))\n",
      "/Library/Frameworks/Python.framework/Versions/3.8/lib/python3.8/site-packages/sklearn/metrics/_classification.py:1221: UndefinedMetricWarning: Precision is ill-defined and being set to 0.0 in labels with no predicted samples. Use `zero_division` parameter to control this behavior.\n",
      "  _warn_prf(average, modifier, msg_start, len(result))\n",
      "/Library/Frameworks/Python.framework/Versions/3.8/lib/python3.8/site-packages/sklearn/metrics/_classification.py:1221: UndefinedMetricWarning: Recall is ill-defined and being set to 0.0 in labels with no true samples. Use `zero_division` parameter to control this behavior.\n",
      "  _warn_prf(average, modifier, msg_start, len(result))\n"
     ]
    }
   ],
   "source": [
    "model = BernoulliNB()\n",
    "model.fit(x_train, y_train)\n",
    "prediction = []\n",
    "expectation = []\n",
    "expectation.extend(y_test)\n",
    "prediction.extend(model.predict(x_test))\n",
    "\n",
    "print(\"Precision, Recall, and F1 scores are as below.\")\n",
    "print(metrics.classification_report(expectation, prediction))\n",
    "print(\"F1 scores =\", metrics.f1_score(expectation, prediction, average='weighted'))\n",
    "print(\"Precision =\", metrics.precision_score(expectation, prediction, average='weighted'))\n",
    "print(\"recall =\", metrics.recall_score(expectation, prediction, average ='weighted'))"
   ]
  },
  {
   "cell_type": "code",
   "execution_count": 88,
   "metadata": {},
   "outputs": [
    {
     "name": "stderr",
     "output_type": "stream",
     "text": [
      "/Library/Frameworks/Python.framework/Versions/3.8/lib/python3.8/site-packages/sklearn/metrics/_ranking.py:681: RuntimeWarning: invalid value encountered in true_divide\n",
      "  recall = tps / tps[-1]\n",
      "/Library/Frameworks/Python.framework/Versions/3.8/lib/python3.8/site-packages/sklearn/metrics/_ranking.py:681: RuntimeWarning: invalid value encountered in true_divide\n",
      "  recall = tps / tps[-1]\n",
      "/Library/Frameworks/Python.framework/Versions/3.8/lib/python3.8/site-packages/sklearn/metrics/_ranking.py:681: RuntimeWarning: invalid value encountered in true_divide\n",
      "  recall = tps / tps[-1]\n"
     ]
    },
    {
     "data": {
      "image/png": "[encoded data removed]",
      "text/plain": [
       "<Figure size 432x288 with 1 Axes>"
      ]
     },
     "metadata": {
      "needs_background": "light"
     },
     "output_type": "display_data"
    },
    {
     "data": {
      "text/plain": [
       "<Figure size 432x288 with 0 Axes>"
      ]
     },
     "metadata": {},
     "output_type": "display_data"
    }
   ],
   "source": [
    "precision = dict() \n",
    "recall = dict() \n",
    "for i in range(13):\n",
    "    precision[i], recall[i], thresholds = metrics.precision_recall_curve(expectation, prediction, pos_label = (i + 1))\n",
    "    plt.plot(recall[i], precision[i], lw = 2, label = 'class {}'.format(i + 1))\n",
    "\n",
    "plt.xlabel(\"Recall\") \n",
    "plt.ylabel(\"Precision\")\n",
    "plt.legend(loc = \"upper right\")\n",
    "plt.title(\"Precision Recall Curve: Naïve Bayes Model\")\n",
    "plt.show()\n",
    "plt.savefig('P.png')"
   ]
  },
  {
   "cell_type": "code",
   "execution_count": null,
   "metadata": {},
   "outputs": [],
   "source": [
    "# Below is SVM Linear"
   ]
  },
  {
   "cell_type": "code",
   "execution_count": 85,
   "metadata": {},
   "outputs": [
    {
     "name": "stdout",
     "output_type": "stream",
     "text": [
      "Precision, Recall, and F1 scores are as below.\n",
      "              precision    recall  f1-score   support\n",
      "\n",
      "           1       1.00      1.00      1.00         4\n",
      "           2       1.00      1.00      1.00         3\n",
      "           3       1.00      1.00      1.00         2\n",
      "           4       1.00      1.00      1.00         1\n",
      "           5       1.00      1.00      1.00         2\n",
      "           6       1.00      1.00      1.00         3\n",
      "           8       1.00      1.00      1.00         1\n",
      "           9       1.00      1.00      1.00         1\n",
      "          11       1.00      1.00      1.00         1\n",
      "          13       1.00      1.00      1.00         2\n",
      "\n",
      "    accuracy                           1.00        20\n",
      "   macro avg       1.00      1.00      1.00        20\n",
      "weighted avg       1.00      1.00      1.00        20\n",
      "\n",
      "F1 scores : 1.0\n",
      "Precision : 1.0\n",
      "recall : 1.0\n"
     ]
    }
   ],
   "source": [
    "TFIDF_vectorizer = TfidfVectorizer(stop_words = 'english')\n",
    "TFIDF_vectors_training = TFIDF_vectorizer.fit_transform(training_docs['text'])\n",
    "TFIDF_vectors_testing  = TFIDF_vectorizer.transform(testing_docs['text'])\n",
    "\n",
    "x_train, x_test, y_train, y_test = train_test_split(TFIDF_vectors_training, labels['classes'], test_size = 0.1)\n",
    "SVC_Linear_model = SVC(kernel='linear', C = 1.0)\n",
    "SVC_Linear_model.fit(x_train, y_train)\n",
    "\n",
    "prediction = []\n",
    "expectation = []\n",
    "\n",
    "expectation.extend(y_test)\n",
    "prediction.extend(SVC_Linear_model.predict(x_test))\n",
    "\n",
    "print(\"Precision, Recall, and F1 scores are as below.\")\n",
    "print(metrics.classification_report(expectation, prediction))\n",
    "print(\"F1 scores :\", metrics.f1_score(expectation, prediction, average='weighted'))\n",
    "print(\"Precision :\", metrics.precision_score(expectation, prediction, average='weighted'))\n",
    "print(\"recall :\", metrics.recall_score(expectation, prediction, average ='weighted'))"
   ]
  },
  {
   "cell_type": "code",
   "execution_count": 89,
   "metadata": {},
   "outputs": [
    {
     "name": "stderr",
     "output_type": "stream",
     "text": [
      "/Library/Frameworks/Python.framework/Versions/3.8/lib/python3.8/site-packages/sklearn/metrics/_ranking.py:681: RuntimeWarning: invalid value encountered in true_divide\n",
      "  recall = tps / tps[-1]\n",
      "/Library/Frameworks/Python.framework/Versions/3.8/lib/python3.8/site-packages/sklearn/metrics/_ranking.py:681: RuntimeWarning: invalid value encountered in true_divide\n",
      "  recall = tps / tps[-1]\n",
      "/Library/Frameworks/Python.framework/Versions/3.8/lib/python3.8/site-packages/sklearn/metrics/_ranking.py:681: RuntimeWarning: invalid value encountered in true_divide\n",
      "  recall = tps / tps[-1]\n"
     ]
    },
    {
     "data": {
      "image/png": "[encoded data removed]",
      "text/plain": [
       "<Figure size 432x288 with 1 Axes>"
      ]
     },
     "metadata": {
      "needs_background": "light"
     },
     "output_type": "display_data"
    }
   ],
   "source": [
    "precision = dict() \n",
    "recall = dict() \n",
    "for i in range(13):\n",
    "    precision[i], recall[i], thresholds = metrics.precision_recall_curve(expectation, prediction, pos_label = (i + 1))\n",
    "    plt.plot(recall[i], precision[i], lw = 2, label = 'class {}'.format(i + 1))\n",
    "\n",
    "plt.xlabel(\"Recall\") \n",
    "plt.ylabel(\"Precision\")\n",
    "plt.legend(loc = \"upper right\")\n",
    "plt.title(\"Precision Recall Curve: SVM Linear\")\n",
    "plt.show()\n"
   ]
  },
  {
   "cell_type": "code",
   "execution_count": null,
   "metadata": {},
   "outputs": [],
   "source": [
    "# below is SVM RBF"
   ]
  },
  {
   "cell_type": "code",
   "execution_count": 86,
   "metadata": {},
   "outputs": [
    {
     "name": "stdout",
     "output_type": "stream",
     "text": [
      "Precision, Recall, and F1 scores are as below.\n",
      "              precision    recall  f1-score   support\n",
      "\n",
      "           1       1.00      1.00      1.00         1\n",
      "           2       1.00      1.00      1.00         1\n",
      "           3       1.00      1.00      1.00         3\n",
      "           4       1.00      1.00      1.00         1\n",
      "           6       1.00      1.00      1.00         1\n",
      "           7       1.00      1.00      1.00         3\n",
      "          10       1.00      1.00      1.00         4\n",
      "          11       1.00      1.00      1.00         1\n",
      "          12       1.00      1.00      1.00         2\n",
      "          13       1.00      1.00      1.00         3\n",
      "\n",
      "    accuracy                           1.00        20\n",
      "   macro avg       1.00      1.00      1.00        20\n",
      "weighted avg       1.00      1.00      1.00        20\n",
      "\n",
      "F1 scores : 1.0\n",
      "Precision : 1.0\n",
      "recall : 1.0\n"
     ]
    }
   ],
   "source": [
    "TFIDF_vectorizer = TfidfVectorizer(stop_words = 'english')\n",
    "TFIDF_vectors_training = TFIDF_vectorizer.fit_transform(training_docs['text'])\n",
    "TFIDF_vectors_testing  = TFIDF_vectorizer.transform(testing_docs['text'])\n",
    "\n",
    "x_train, x_test, y_train, y_test = train_test_split(TFIDF_vectors_training, labels['classes'], test_size = 0.1)\n",
    "SVC_RBF_model = SVC(kernel='rbf', gamma = 'scale', C = 1.0)\n",
    "SVC_RBF_model.fit(x_train, y_train)\n",
    "\n",
    "prediction = []\n",
    "expectation = []\n",
    "\n",
    "expectation.extend(y_test)\n",
    "prediction.extend(SVC_RBF_model.predict(x_test))\n",
    "\n",
    "print(\"Precision, Recall, and F1 scores are as below.\")\n",
    "print(metrics.classification_report(expectation, prediction))\n",
    "print(\"F1 scores :\", metrics.f1_score(expectation, prediction, average='weighted'))\n",
    "print(\"Precision :\", metrics.precision_score(expectation, prediction, average='weighted'))\n",
    "print(\"recall :\", metrics.recall_score(expectation, prediction, average ='weighted'))"
   ]
  },
  {
   "cell_type": "code",
   "execution_count": 91,
   "metadata": {},
   "outputs": [
    {
     "name": "stderr",
     "output_type": "stream",
     "text": [
      "/Library/Frameworks/Python.framework/Versions/3.8/lib/python3.8/site-packages/sklearn/metrics/_ranking.py:681: RuntimeWarning: invalid value encountered in true_divide\n",
      "  recall = tps / tps[-1]\n",
      "/Library/Frameworks/Python.framework/Versions/3.8/lib/python3.8/site-packages/sklearn/metrics/_ranking.py:681: RuntimeWarning: invalid value encountered in true_divide\n",
      "  recall = tps / tps[-1]\n",
      "/Library/Frameworks/Python.framework/Versions/3.8/lib/python3.8/site-packages/sklearn/metrics/_ranking.py:681: RuntimeWarning: invalid value encountered in true_divide\n",
      "  recall = tps / tps[-1]\n"
     ]
    },
    {
     "data": {
      "image/png": "[encoded data removed]",
      "text/plain": [
       "<Figure size 432x288 with 1 Axes>"
      ]
     },
     "metadata": {
      "needs_background": "light"
     },
     "output_type": "display_data"
    }
   ],
   "source": [
    "precision = dict() \n",
    "recall = dict() \n",
    "for i in range(13):\n",
    "    precision[i], recall[i], thresholds = metrics.precision_recall_curve(expectation, prediction, pos_label = (i + 1))\n",
    "    plt.plot(recall[i], precision[i], lw = 2, label = 'class {}'.format(i + 1))\n",
    "\n",
    "plt.xlabel(\"Recall\") \n",
    "plt.ylabel(\"Precision\")\n",
    "plt.legend(loc = \"upper right\")\n",
    "plt.title(\"Precision Recall Curve: SVM RBF\")\n",
    "plt.show()\n",
    "\n",
    "#print(\"F1 scores :\", metrics.f1_score(expectation, prediction, average='weighted'))\n",
    "#print(\"Precision :\", metrics.precision_score(expectation, prediction, average='weighted'))\n",
    "#print(\"Recall :\", metrics.recall_score(expectation, prediction, average ='weighted'))"
   ]
  },
  {
   "cell_type": "code",
   "execution_count": 81,
   "metadata": {},
   "outputs": [
    {
     "name": "stdout",
     "output_type": "stream",
     "text": [
      "2\n",
      "900\n",
      "[]\n",
      "2\n"
     ]
    }
   ],
   "source": [
    "result = []\n",
    "output = []\n",
    "result.extend(SVC_RBF_model.predict(TFIDF_vectors_testing))\n",
    "pd.DataFrame(result).to_csv('svmRbf.csv', index = True)\n",
    "print(result[3])\n",
    "print(len(result))\n",
    "#output.append(testing_docs['id'])\n",
    "#print(output)\n",
    "#print(testing_docs.at(9, 'id'))\n",
    "for i in range(900):\n",
    "    value = int(testing_docs.iloc[i][\"id\"])\n",
    "    output.append([value, str(result[i])])\n",
    "\n",
    "print(output[0][1])"
   ]
  },
  {
   "cell_type": "code",
   "execution_count": 83,
   "metadata": {},
   "outputs": [],
   "source": [
    "import csv\n",
    "with open('output_svm_rbf.csv', 'w', newline = '') as rbf:\n",
    "    writer = csv.writer(rbf)\n",
    "    writer.writerow([\"Id\", \"Value\"])\n",
    "    writer.writerows(output)\n"
   ]
  },
  {
   "cell_type": "code",
   "execution_count": 92,
   "metadata": {},
   "outputs": [
    {
     "name": "stdout",
     "output_type": "stream",
     "text": [
      "2\n",
      "900\n",
      "2\n"
     ]
    }
   ],
   "source": [
    "result = []\n",
    "output = []\n",
    "result.extend(SVC_Linear_model.predict(TFIDF_vectors_testing))\n",
    "pd.DataFrame(result).to_csv('svmRbf.csv', index = True)\n",
    "print(result[3])\n",
    "print(len(result))\n",
    "#output.append(testing_docs['id'])\n",
    "#print(output)\n",
    "#print(testing_docs.at(9, 'id'))\n",
    "for i in range(900):\n",
    "    value = int(testing_docs.iloc[i][\"id\"])\n",
    "    output.append([value, str(result[i])])\n",
    "\n",
    "print(output[0][1])\n",
    "import csv\n",
    "with open('output_svm_linear.csv', 'w', newline = '') as rbf:\n",
    "    writer = csv.writer(rbf)\n",
    "    writer.writerow([\"Id\", \"Value\"])\n",
    "    writer.writerows(output)\n",
    "\n"
   ]
  },
  {
   "cell_type": "code",
   "execution_count": null,
   "metadata": {},
   "outputs": [],
   "source": [
    "# below can be ignored."
   ]
  },
  {
   "cell_type": "code",
   "execution_count": 87,
   "metadata": {},
   "outputs": [
    {
     "name": "stdout",
     "output_type": "stream",
     "text": [
      "              precision    recall  f1-score   support\n",
      "\n",
      "           1       1.00      1.00      1.00         2\n",
      "           2       1.00      0.50      0.67         4\n",
      "           3       1.00      0.50      0.67         2\n",
      "           5       1.00      1.00      1.00         1\n",
      "           6       0.00      0.00      0.00         1\n",
      "           7       1.00      1.00      1.00         2\n",
      "           8       0.25      1.00      0.40         1\n",
      "           9       1.00      1.00      1.00         2\n",
      "          11       1.00      1.00      1.00         1\n",
      "          12       1.00      1.00      1.00         2\n",
      "          13       1.00      1.00      1.00         2\n",
      "\n",
      "    accuracy                           0.80        20\n",
      "   macro avg       0.84      0.82      0.79        20\n",
      "weighted avg       0.91      0.80      0.82        20\n",
      "\n"
     ]
    }
   ],
   "source": [
    "from sklearn.model_selection import train_test_split\n",
    "x_train, x_test, y_train, y_test = train_test_split(TFIDF_vectors, labels['classes'], test_size = 0.1)\n",
    "from sklearn.naive_bayes import BernoulliNB\n",
    "model = BernoulliNB()\n",
    "model.fit(x_train, y_train)\n",
    "y_pred = model.predict(x_test)\n",
    "y_prob = model.predict_proba(x_test)\n",
    "from sklearn import metrics\n",
    "print(metrics.classification_report(y_test, y_pred))\n"
   ]
  },
  {
   "cell_type": "code",
   "execution_count": 88,
   "metadata": {},
   "outputs": [
    {
     "name": "stdout",
     "output_type": "stream",
     "text": [
      "     Value\n",
      "0        8\n",
      "1       10\n",
      "2        8\n",
      "3        8\n",
      "4        8\n",
      "..     ...\n",
      "895      8\n",
      "896      6\n",
      "897      6\n",
      "898      8\n",
      "899      4\n",
      "\n",
      "[900 rows x 1 columns]\n"
     ]
    }
   ],
   "source": [
    "testing_TFIDF = TFIDF_vectorizer.transform(testing_docs['text'])\n",
    "prediction = model.predict(testing_TFIDF)\n",
    "results = pd.DataFrame(prediction, columns = ['Value'])\n",
    "print(results)\n",
    "pd.DataFrame(results).to_csv('output.csv', index = False)"
   ]
  },
  {
   "cell_type": "code",
   "execution_count": 53,
   "metadata": {},
   "outputs": [
    {
     "name": "stdout",
     "output_type": "stream",
     "text": [
      "[[1 0 0 ... 0 0 0]\n",
      " [0 0 0 ... 0 0 0]\n",
      " [0 0 0 ... 0 1 0]\n",
      " ...\n",
      " [0 1 1 ... 0 0 0]\n",
      " [1 0 0 ... 0 0 1]\n",
      " [1 0 0 ... 0 0 0]]\n",
      "[[0 0 0 ... 0 0 0]\n",
      " [0 1 0 ... 0 0 0]\n",
      " [0 0 0 ... 0 0 0]\n",
      " ...\n",
      " [0 1 0 ... 0 0 0]\n",
      " [0 1 0 ... 0 0 0]\n",
      " [0 0 0 ... 0 0 0]]\n"
     ]
    }
   ],
   "source": [
    "from sklearn.feature_extraction.text import CountVectorizer\n",
    "binary_vectorizer = CountVectorizer(binary=True)\n",
    "training_binary_vectors = binary_vectorizer.fit_transform(training_docs['text'])\n",
    "print(training_binary_vectors.toarray())\n",
    "testing_binary_vectors = binary_vectorizer.fit_transform(testing_docs['text'])\n",
    "print(testing_binary_vectors.toarray())\n"
   ]
  },
  {
   "cell_type": "code",
   "execution_count": 72,
   "metadata": {},
   "outputs": [
    {
     "data": {
      "text/plain": [
       "BernoulliNB()"
      ]
     },
     "execution_count": 72,
     "metadata": {},
     "output_type": "execute_result"
    }
   ],
   "source": [
    "from sklearn.naive_bayes import BernoulliNB\n",
    "model_b = BernoulliNB()\n",
    "model_b.fit(training_binary_vectors, labels['classes'])"
   ]
  },
  {
   "cell_type": "code",
   "execution_count": 73,
   "metadata": {},
   "outputs": [
    {
     "ename": "ValueError",
     "evalue": "Expected input with 7717 features, got 18062 instead",
     "output_type": "error",
     "traceback": [
      "\u001b[0;31m---------------------------------------------------------------------------\u001b[0m",
      "\u001b[0;31mValueError\u001b[0m                                Traceback (most recent call last)",
      "\u001b[0;32m<ipython-input-73-5ac809106755>\u001b[0m in \u001b[0;36m<module>\u001b[0;34m\u001b[0m\n\u001b[1;32m      1\u001b[0m \u001b[0mpredicted_b\u001b[0m \u001b[0;34m=\u001b[0m \u001b[0;34m[\u001b[0m\u001b[0;34m]\u001b[0m\u001b[0;34m\u001b[0m\u001b[0;34m\u001b[0m\u001b[0m\n\u001b[0;32m----> 2\u001b[0;31m \u001b[0mpredicted_b\u001b[0m\u001b[0;34m.\u001b[0m\u001b[0mextend\u001b[0m\u001b[0;34m(\u001b[0m\u001b[0mmodel_b\u001b[0m\u001b[0;34m.\u001b[0m\u001b[0mpredict\u001b[0m\u001b[0;34m(\u001b[0m\u001b[0mtesting_binary_vectors\u001b[0m\u001b[0;34m)\u001b[0m\u001b[0;34m)\u001b[0m\u001b[0;34m\u001b[0m\u001b[0;34m\u001b[0m\u001b[0m\n\u001b[0m\u001b[1;32m      3\u001b[0m \u001b[0;32mfrom\u001b[0m \u001b[0msklearn\u001b[0m\u001b[0;34m.\u001b[0m\u001b[0mmetrics\u001b[0m \u001b[0;32mimport\u001b[0m \u001b[0mprecision_recall_curve\u001b[0m\u001b[0;34m\u001b[0m\u001b[0;34m\u001b[0m\u001b[0m\n\u001b[1;32m      4\u001b[0m \u001b[0;32mfrom\u001b[0m \u001b[0msklearn\u001b[0m \u001b[0;32mimport\u001b[0m \u001b[0mmetrics\u001b[0m\u001b[0;34m\u001b[0m\u001b[0;34m\u001b[0m\u001b[0m\n\u001b[1;32m      5\u001b[0m \u001b[0mprint\u001b[0m\u001b[0;34m(\u001b[0m\u001b[0mmetrics\u001b[0m\u001b[0;34m.\u001b[0m\u001b[0mclassification_report\u001b[0m\u001b[0;34m(\u001b[0m\u001b[0mexpected\u001b[0m\u001b[0;34m,\u001b[0m \u001b[0mpreNB\u001b[0m\u001b[0;34m)\u001b[0m\u001b[0;34m)\u001b[0m\u001b[0;34m\u001b[0m\u001b[0;34m\u001b[0m\u001b[0m\n",
      "\u001b[0;32m/Library/Frameworks/Python.framework/Versions/3.8/lib/python3.8/site-packages/sklearn/naive_bayes.py\u001b[0m in \u001b[0;36mpredict\u001b[0;34m(self, X)\u001b[0m\n\u001b[1;32m     76\u001b[0m         \u001b[0mcheck_is_fitted\u001b[0m\u001b[0;34m(\u001b[0m\u001b[0mself\u001b[0m\u001b[0;34m)\u001b[0m\u001b[0;34m\u001b[0m\u001b[0;34m\u001b[0m\u001b[0m\n\u001b[1;32m     77\u001b[0m         \u001b[0mX\u001b[0m \u001b[0;34m=\u001b[0m \u001b[0mself\u001b[0m\u001b[0;34m.\u001b[0m\u001b[0m_check_X\u001b[0m\u001b[0;34m(\u001b[0m\u001b[0mX\u001b[0m\u001b[0;34m)\u001b[0m\u001b[0;34m\u001b[0m\u001b[0;34m\u001b[0m\u001b[0m\n\u001b[0;32m---> 78\u001b[0;31m         \u001b[0mjll\u001b[0m \u001b[0;34m=\u001b[0m \u001b[0mself\u001b[0m\u001b[0;34m.\u001b[0m\u001b[0m_joint_log_likelihood\u001b[0m\u001b[0;34m(\u001b[0m\u001b[0mX\u001b[0m\u001b[0;34m)\u001b[0m\u001b[0;34m\u001b[0m\u001b[0;34m\u001b[0m\u001b[0m\n\u001b[0m\u001b[1;32m     79\u001b[0m         \u001b[0;32mreturn\u001b[0m \u001b[0mself\u001b[0m\u001b[0;34m.\u001b[0m\u001b[0mclasses_\u001b[0m\u001b[0;34m[\u001b[0m\u001b[0mnp\u001b[0m\u001b[0;34m.\u001b[0m\u001b[0margmax\u001b[0m\u001b[0;34m(\u001b[0m\u001b[0mjll\u001b[0m\u001b[0;34m,\u001b[0m \u001b[0maxis\u001b[0m\u001b[0;34m=\u001b[0m\u001b[0;36m1\u001b[0m\u001b[0;34m)\u001b[0m\u001b[0;34m]\u001b[0m\u001b[0;34m\u001b[0m\u001b[0;34m\u001b[0m\u001b[0m\n\u001b[1;32m     80\u001b[0m \u001b[0;34m\u001b[0m\u001b[0m\n",
      "\u001b[0;32m/Library/Frameworks/Python.framework/Versions/3.8/lib/python3.8/site-packages/sklearn/naive_bayes.py\u001b[0m in \u001b[0;36m_joint_log_likelihood\u001b[0;34m(self, X)\u001b[0m\n\u001b[1;32m   1009\u001b[0m \u001b[0;34m\u001b[0m\u001b[0m\n\u001b[1;32m   1010\u001b[0m         \u001b[0;32mif\u001b[0m \u001b[0mn_features_X\u001b[0m \u001b[0;34m!=\u001b[0m \u001b[0mn_features\u001b[0m\u001b[0;34m:\u001b[0m\u001b[0;34m\u001b[0m\u001b[0;34m\u001b[0m\u001b[0m\n\u001b[0;32m-> 1011\u001b[0;31m             raise ValueError(\"Expected input with %d features, got %d instead\"\n\u001b[0m\u001b[1;32m   1012\u001b[0m                              % (n_features, n_features_X))\n\u001b[1;32m   1013\u001b[0m \u001b[0;34m\u001b[0m\u001b[0m\n",
      "\u001b[0;31mValueError\u001b[0m: Expected input with 7717 features, got 18062 instead"
     ]
    }
   ],
   "source": [
    "predicted_b = []\n",
    "predicted_b.extend(model_b.predict(testing_binary_vectors))\n",
    "from sklearn.metrics import precision_recall_curve\n",
    "from sklearn import metrics\n",
    "print(metrics.classification_report(expected, preNB))"
   ]
  }
 ],
 "metadata": {
  "kernelspec": {
   "display_name": "Python 3",
   "language": "python",
   "name": "python3"
  },
  "language_info": {
   "codemirror_mode": {
    "name": "ipython",
    "version": 3
   },
   "file_extension": ".py",
   "mimetype": "text/x-python",
   "name": "python",
   "nbconvert_exporter": "python",
   "pygments_lexer": "ipython3",
   "version": "3.8.5"
  }
 },
 "nbformat": 4,
 "nbformat_minor": 4
}
