{
 "cells": [
  {
   "cell_type": "code",
   "execution_count": 9,
   "metadata": {},
   "outputs": [],
   "source": [
    "# import packages\n",
    "from nltk.tokenize import word_tokenize\n",
    "from collections import Counter\n",
    "from sklearn.feature_extraction.text import CountVectorizer\n",
    "from sklearn.feature_extraction.text import TfidfVectorizer\n",
    "from sklearn.metrics.pairwise import cosine_similarity\n",
    "import numpy as np\n",
    "import os\n",
    "import nltk"
   ]
  },
  {
   "cell_type": "markdown",
   "metadata": {},
   "source": [
    "[TODO]\n",
    "- pre-processor the data\n",
    "    - punc, lowercase, eng stop_words\n",
    "- vectorize the data\n",
    "- calculate the cosine similarity"
   ]
  },
  {
   "cell_type": "code",
   "execution_count": 10,
   "metadata": {},
   "outputs": [],
   "source": [
    "file = os.path.expanduser('~/NTUCourse/NTU-IM-ITM/HW-01/PA1-data/1094.txt')\n",
    "f = open(file)\n",
    "\n",
    "all_file = list(range(1, 1096))\n",
    "\n",
    "for i in range(1, 1096):\n",
    "    ### read file\n",
    "    doc_name = \"~/NTUCourse/NTU-IM-ITM/HW-01/PA1-data/\" + str(i) + \".txt\"\n",
    "    file = os.path.expanduser(doc_name)\n",
    "    f = open(file)\n",
    "    docs = f.read()\n",
    "    #print(docs)\n",
    "    \n",
    "    ### lowerize\n",
    "    token_lower = docs.lower()\n",
    "    #print(token_lower)\n",
    "    \n",
    "    ### stop punctuation\n",
    "    token_sequence = word_tokenize(token_lower)\n",
    "    stop_punc = [',',';','.','\\'','?']\n",
    "    tokens_wo_stop_punc = [x for x in token_sequence if x not in stop_punc]\n",
    "    #print(tokens_wo_stop_punc)\n",
    "    \n",
    "    ### stop words in english\n",
    "    stop_words = nltk.corpus.stopwords.words('english')\n",
    "    tokens_wo_stop_words = [x for x in tokens_wo_stop_punc if x not in stop_words]\n",
    "    #print(tokens_wo_stop_words)\n",
    "    \n",
    "    lst = ' '.join([str(elem) for elem in tokens_wo_stop_words])\n",
    "    final_docs = []\n",
    "    final_docs.append(lst)\n",
    "    #print(final_docs)\n",
    "    \n",
    "    all_file[i-1] = lst\n",
    "    \n",
    "#print(all_file)\n",
    "TFIDF_vectorizer = TfidfVectorizer()\n",
    "TFIDF_vectors = TFIDF_vectorizer.fit_transform(all_file)\n",
    "#print(TFIDF_vectors.toarray())\n",
    "#print('\\n')\n"
   ]
  },
  {
   "cell_type": "code",
   "execution_count": 8,
   "metadata": {},
   "outputs": [],
   "source": [
    "### outfile the 1.vec and 2.vec\n",
    "for i in range(1,3):\n",
    "    filename = str(i) + \".vec\"\n",
    "    outF = open(filename, \"w\")\n",
    "    for line in TFIDF_vectors.toarray()[i - 1]:\n",
    "        outF.write(str(line))\n",
    "        outF.write(\"\\n\")\n",
    "    outF.close()"
   ]
  },
  {
   "cell_type": "code",
   "execution_count": 12,
   "metadata": {},
   "outputs": [
    {
     "name": "stdout",
     "output_type": "stream",
     "text": [
      "The cosine similarity of 1.vec and 2.vec is 0.2001813126251768\n"
     ]
    }
   ],
   "source": [
    "### print the cosine similarity\n",
    "print(\"The cosine similarity of 1.vec and 2.vec is\",cosine_similarity(TFIDF_vectors[0], TFIDF_vectors[1]).flatten()[0])"
   ]
  }
 ],
 "metadata": {
  "kernelspec": {
   "display_name": "Python 3",
   "language": "python",
   "name": "python3"
  },
  "language_info": {
   "codemirror_mode": {
    "name": "ipython",
    "version": 3
   },
   "file_extension": ".py",
   "mimetype": "text/x-python",
   "name": "python",
   "nbconvert_exporter": "python",
   "pygments_lexer": "ipython3",
   "version": "3.8.5"
  }
 },
 "nbformat": 4,
 "nbformat_minor": 4
}
